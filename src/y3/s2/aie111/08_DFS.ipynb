{
 "cells": [
  {
   "cell_type": "code",
   "metadata": {
    "ExecuteTime": {
     "end_time": "2025-03-25T19:22:40.425866Z",
     "start_time": "2025-03-25T19:22:40.410184Z"
    }
   },
   "source": [
    "# DFS algorithm in Python\n",
    "# DFS algorithm\n",
    "def dfs(graph, start, visited=None):\n",
    "    if visited is None:\n",
    "        visited = set()\n",
    "    visited.add(start)\n",
    "\n",
    "    print('========')\n",
    "    print(visited)\n",
    "    print(graph[start])\n",
    "    print(graph[start] - visited)\n",
    "\n",
    "    for next in graph[start] - visited:\n",
    "        dfs(graph, next, visited)\n",
    "    return visited\n",
    "\n",
    "\n",
    "graph = {'0': set(['1', '2']),\n",
    "         '1': set(['0', '3', '4']),\n",
    "         '2': set(['0']),\n",
    "         '3': set(['1']),\n",
    "         '4': set(['2', '3'])}\n",
    "\n",
    "dfs(graph, '0')"
   ],
   "outputs": [
    {
     "name": "stdout",
     "output_type": "stream",
     "text": [
      "========\n",
      "{'0'}\n",
      "{'1', '2'}\n",
      "{'1', '2'}\n",
      "========\n",
      "{'0', '1'}\n",
      "{'3', '0', '4'}\n",
      "{'3', '4'}\n",
      "========\n",
      "{'3', '0', '1'}\n",
      "{'1'}\n",
      "set()\n",
      "========\n",
      "{'4', '3', '0', '1'}\n",
      "{'3', '2'}\n",
      "{'2'}\n",
      "========\n",
      "{'0', '4', '1', '2', '3'}\n",
      "{'0'}\n",
      "set()\n",
      "========\n",
      "{'0', '4', '1', '2', '3'}\n",
      "{'0'}\n",
      "set()\n"
     ]
    },
    {
     "data": {
      "text/plain": [
       "{'0', '1', '2', '3', '4'}"
      ]
     },
     "execution_count": 1,
     "metadata": {},
     "output_type": "execute_result"
    }
   ],
   "execution_count": 1
  }
 ],
 "metadata": {
  "language_info": {
   "name": "python"
  },
  "kernelspec": {
   "name": "python3",
   "language": "python",
   "display_name": "Python 3 (ipykernel)"
  }
 },
 "nbformat": 4,
 "nbformat_minor": 2
}
