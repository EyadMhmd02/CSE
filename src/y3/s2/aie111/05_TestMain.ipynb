{
 "cells": [
  {
   "cell_type": "code",
   "metadata": {
    "jupyter": {
     "is_executing": true
    }
   },
   "source": [
    "import numpy as np\n"
   ],
   "outputs": [],
   "execution_count": null
  },
  {
   "cell_type": "code",
   "metadata": {
    "ExecuteTime": {
     "end_time": "2025-03-25T19:21:55.916543Z",
     "start_time": "2025-03-25T19:21:55.909161Z"
    }
   },
   "source": [
    "def print_F(floor, row, col): \n",
    "    \"\"\"A function to print the GRID , (row, col) represent the current vacuum cleaner position\"\"\" \n",
    "    print(\"The Floor matrix is as below:\")\n",
    "    for r in range(len(floor)):\n",
    "        for c in range(len(floor[r])):\n",
    "            if r == row and c == col:\n",
    "                print(f\" >{floor[r][c]}< \", end = '')\n",
    "            else:\n",
    "                print(f\"  {floor[r][c]}  \", end = '')\n",
    "        print(end = '\\n')\n",
    "print(end = '\\n')"
   ],
   "outputs": [
    {
     "name": "stdout",
     "output_type": "stream",
     "text": [
      "\n"
     ]
    }
   ],
   "execution_count": 12
  },
  {
   "cell_type": "code",
   "metadata": {
    "ExecuteTime": {
     "end_time": "2025-03-25T19:21:55.947024Z",
     "start_time": "2025-03-25T19:21:55.939722Z"
    }
   },
   "source": [
    "def clean(floor): \n",
    "    i, j, row, col = 0, 0, len(floor), len(floor[0])\n",
    "\n",
    "    for i in range(row):\n",
    "        \n",
    "        if(i%2 == 0):\n",
    "            for j in range(col):\n",
    "                if(floor[i][j] == 1):\n",
    "                    print_F(floor, i, j)\n",
    "                    floor[i][j] = 0\n",
    "                     \n",
    "                print_F(floor, i, j)\n",
    "              \n",
    "        else:\n",
    "            for j in range(col-1, -1, -1):\n",
    "                print(j)\n",
    "                if(floor[i][j] == 1):\n",
    "                    print_F(floor, i, j)\n",
    "                    floor[i][j] = 0\n",
    "                    \n",
    "                print_F(floor, i, j)\n",
    "                "
   ],
   "outputs": [],
   "execution_count": 13
  },
  {
   "cell_type": "code",
   "metadata": {
    "ExecuteTime": {
     "end_time": "2025-03-25T19:21:55.997141Z",
     "start_time": "2025-03-25T19:21:55.989889Z"
    }
   },
   "source": [
    "def main():\n",
    "    floor = []\n",
    "    m = int(input(\"Enter the No. of Rows: \"))\n",
    "    n = int(input(\"Enter the No. of Columns: \"))\n",
    "    print(\"Enter clean status for each cell (1 - dirty, 0 - clean)\")\n",
    "    for i in range(m):\n",
    "        f=[]\n",
    "        for j in range(n):\n",
    "            f.append(int(input()))\n",
    "            # f = list(map(int, input().split(\" \")))\n",
    "        floor.append(f)\n",
    "            \n",
    "    clean(floor)"
   ],
   "outputs": [],
   "execution_count": 14
  },
  {
   "cell_type": "code",
   "metadata": {
    "ExecuteTime": {
     "end_time": "2025-03-25T19:22:08.296393Z",
     "start_time": "2025-03-25T19:21:56.020415Z"
    }
   },
   "source": "main()",
   "outputs": [
    {
     "name": "stdout",
     "output_type": "stream",
     "text": [
      "Enter clean status for each cell (1 - dirty, 0 - clean)\n",
      "The Floor matrix is as below:\n",
      " >1<   2  \n",
      "  3    4  \n",
      "The Floor matrix is as below:\n",
      " >0<   2  \n",
      "  3    4  \n",
      "The Floor matrix is as below:\n",
      "  0   >2< \n",
      "  3    4  \n",
      "1\n",
      "The Floor matrix is as below:\n",
      "  0    2  \n",
      "  3   >4< \n",
      "0\n",
      "The Floor matrix is as below:\n",
      "  0    2  \n",
      " >3<   4  \n"
     ]
    }
   ],
   "execution_count": 15
  },
  {
   "cell_type": "code",
   "metadata": {
    "ExecuteTime": {
     "end_time": "2025-03-25T19:22:08.348801Z",
     "start_time": "2025-03-25T19:22:08.342964Z"
    }
   },
   "source": [
    "print(2%2)"
   ],
   "outputs": [
    {
     "name": "stdout",
     "output_type": "stream",
     "text": [
      "0\n"
     ]
    }
   ],
   "execution_count": 16
  },
  {
   "cell_type": "code",
   "metadata": {
    "ExecuteTime": {
     "end_time": "2025-03-25T19:22:08.528477Z",
     "start_time": "2025-03-25T19:22:08.520541Z"
    }
   },
   "source": [
    "graph = {\n",
    "  '5' : ['3','7'],\n",
    "  '3' : ['2', '4'],\n",
    "  '7' : ['8'],\n",
    "  '2' : [],\n",
    "  '4' : ['8'],\n",
    "  '8' : []\n",
    "}\n",
    "visited = [] # List for visited nodes.\n",
    "queue = []     #Initialize a queue\n"
   ],
   "outputs": [],
   "execution_count": 17
  },
  {
   "cell_type": "code",
   "metadata": {
    "ExecuteTime": {
     "end_time": "2025-03-25T19:22:08.602059Z",
     "start_time": "2025-03-25T19:22:08.593881Z"
    }
   },
   "source": [
    "def bfs(visited, graph, node): #function for BFS\n",
    "  \n",
    "  visited.append(node)\n",
    "  queue.append(node)\n",
    "   \n",
    "  while queue:          # Creating loop to visit each node\n",
    "    m = queue.pop(0) \n",
    "    # print (m, end = \" \") \n",
    "    print(graph[m])\n",
    "    for neighbour in graph[m]:\n",
    "      print(neighbour)\n",
    "      if neighbour not in visited:\n",
    "        visited.append(neighbour)\n",
    "        queue.append(neighbour)\n",
    "# Driver Code\n",
    "print(\"Following is the Breadth-First Search\")\n",
    "bfs(visited, graph, '5')    # function calling\n"
   ],
   "outputs": [
    {
     "name": "stdout",
     "output_type": "stream",
     "text": [
      "Following is the Breadth-First Search\n",
      "['3', '7']\n",
      "3\n",
      "7\n",
      "['2', '4']\n",
      "2\n",
      "4\n",
      "['8']\n",
      "8\n",
      "[]\n",
      "['8']\n",
      "8\n",
      "[]\n"
     ]
    }
   ],
   "execution_count": 18
  },
  {
   "cell_type": "code",
   "metadata": {
    "ExecuteTime": {
     "end_time": "2025-03-25T19:22:08.652503Z",
     "start_time": "2025-03-25T19:22:08.636653Z"
    }
   },
   "source": [
    "# Python3 implementation of above approach\n",
    "\n",
    "# returns the minimum cost in a vector( if\n",
    "# there are multiple goal states)\n",
    "def uniform_cost_search(goal, start):\n",
    "\t\n",
    "\t# minimum cost upto\n",
    "\t# goal state from starting\n",
    "\tglobal graph,cost\n",
    "\tanswer = []\n",
    "\n",
    "\t# create a priority queue\n",
    "\tqueue = []\n",
    "\t\n",
    "\n",
    "\t# set the answer vector to max value\n",
    "\tfor i in range(len(goal)):\n",
    "\t\tanswer.append(10**8)\n",
    "    \n",
    "    \n",
    "\t# insert the starting index\n",
    "\tqueue.append([0, start])\n",
    "\t \n",
    "\n",
    "\t# map to store visited node\n",
    "\tvisited = {}\n",
    "\n",
    "\t# count\n",
    "\tcount = 0\n",
    "\n",
    "\t# while the queue is not empty\n",
    "\twhile (len(queue) > 0):\n",
    "\n",
    "\t\t# get the top element of the\n",
    "\t\tqueue = sorted(queue)\n",
    "\t\tp = queue[-1]  # Last element in Queue \n",
    "\n",
    "\t\t# pop the element\n",
    "\t\tdel queue[-1]\n",
    "\n",
    "\t\t# get the original value\n",
    "\t\tp[0] *= -1\n",
    "\n",
    "\t\t# check if the element is part of\n",
    "\t\t# the goal list\n",
    "\t\tif (p[1] in goal):\n",
    "\n",
    "\t\t\t# get the position\n",
    "\t\t\tindex = goal.index(p[1])\n",
    "\n",
    "\t\t\t# if a new goal is reached\n",
    "\t\t\tif (answer[index] == 10**8):\n",
    "\t\t\t\tcount += 1\n",
    "\n",
    "\t\t\t# if the cost is less\n",
    "\t\t\tif (answer[index] > p[0]):\n",
    "\t\t\t\tanswer[index] = p[0]\n",
    "\n",
    "\t\t\t# pop the element\n",
    "\t\t\tdel queue[-1]\n",
    "\n",
    "\t\t\tqueue = sorted(queue)\n",
    "\t\t\tif (count == len(goal)):\n",
    "\t\t\t\treturn answer\n",
    "\n",
    "\t\t# check for the non visited nodes\n",
    "\t\t# which are adjacent to present node\n",
    "\t\tif (p[1] not in visited):\n",
    "\t\t\tfor i in range(len(graph[p[1]])):\n",
    "\n",
    "\t\t\t\t# value is multiplied by -1 so that\n",
    "\t\t\t\t# least priority is at the top\n",
    "\t\t\t\tprint( graph[p[1]][i])\n",
    "\t\t\t\tprint(cost[(p[1], graph[p[1]][i])])\n",
    "\t\t\t\tprint((p[0] + cost[(p[1], graph[p[1]][i])])* -1)\n",
    "\t\t\t\tprint(graph[p[1]][i])\n",
    "\t\t\t\tprint([(p[0] + cost[(p[1], graph[p[1]][i])])* -1, graph[p[1]][i]])\n",
    "\t\t\t\tqueue.append( [(p[0] + cost[(p[1], graph[p[1]][i])])* -1, graph[p[1]][i]])\n",
    "\n",
    "\t\t# mark as visited\n",
    "\t\tvisited[p[1]] = 1\n",
    "\n",
    "\treturn answer\n",
    "\n",
    "# main function\n",
    "if __name__ == '__main__':\n",
    "\t\n",
    "\t# create the graph\n",
    "\tgraph,cost = [[] for i in range(8)],{}\n",
    "\n",
    "\t# add edge\n",
    "\tgraph[0].append(1)\n",
    "\tgraph[0].append(3)\n",
    "\tgraph[3].append(1)\n",
    "\tgraph[3].append(6)\n",
    "\tgraph[3].append(4)\n",
    "\tgraph[1].append(6)\n",
    "\tgraph[4].append(2)\n",
    "\tgraph[4].append(5)\n",
    "\tgraph[2].append(1)\n",
    "\tgraph[5].append(2)\n",
    "\tgraph[5].append(6)\n",
    "\tgraph[6].append(4)\n",
    "\n",
    "\t# add the cost\n",
    "\tcost[(0, 1)] = 2\n",
    "\tcost[(0, 3)] = 5\n",
    "\tcost[(1, 6)] = 1\n",
    "\tcost[(3, 1)] = 5\n",
    "\tcost[(3, 6)] = 6\n",
    "\tcost[(3, 4)] = 2\n",
    "\tcost[(2, 1)] = 4\n",
    "\tcost[(4, 2)] = 4\n",
    "\tcost[(4, 5)] = 3\n",
    "\tcost[(5, 2)] = 6\n",
    "\tcost[(5, 6)] = 3\n",
    "\tcost[(6, 4)] = 7\n",
    "\n",
    "\t# goal state\n",
    "\tgoal = []\n",
    "\n",
    "\t# set the goal\n",
    "\t# there can be multiple goal states\n",
    "\tgoal.append(6)\n",
    "\n",
    "\t# get the answer\n",
    "\tanswer = uniform_cost_search(goal, 0)\n",
    "\n",
    "\t# print the answer\n",
    "\tprint(\"Minimum cost from 0 to 6 is = \",answer[0])\n",
    "\n",
    "# This code is contributed by mohit kumar 29\n"
   ],
   "outputs": [
    {
     "name": "stdout",
     "output_type": "stream",
     "text": [
      "1\n",
      "2\n",
      "-2\n",
      "1\n",
      "[-2, 1]\n",
      "3\n",
      "5\n",
      "-5\n",
      "3\n",
      "[-5, 3]\n",
      "6\n",
      "1\n",
      "-3\n",
      "6\n",
      "[-3, 6]\n",
      "Minimum cost from 0 to 6 is =  3\n"
     ]
    }
   ],
   "execution_count": 19
  },
  {
   "cell_type": "code",
   "metadata": {
    "ExecuteTime": {
     "end_time": "2025-03-25T19:22:08.701189Z",
     "start_time": "2025-03-25T19:22:08.684040Z"
    }
   },
   "source": [
    "# DFS algorithm in Python\n",
    "# DFS algorithm\n",
    "def dfs(graph, start, visited=None):\n",
    "    if visited is None:\n",
    "        visited = set()\n",
    "    visited.add(start)\n",
    "\n",
    "    print('========')\n",
    "    print(visited)\n",
    "    print(graph[start])\n",
    "    print(graph[start] - visited)\n",
    "\n",
    "    for next in graph[start] - visited:\n",
    "        dfs(graph, next, visited)\n",
    "    return visited\n",
    "\n",
    "\n",
    "graph = {'0': set(['1', '2']),\n",
    "         '1': set(['0', '3', '4']),\n",
    "         '2': set(['0']),\n",
    "         '3': set(['1']),\n",
    "         '4': set(['2', '3'])}\n",
    "\n",
    "dfs(graph, '0')"
   ],
   "outputs": [
    {
     "name": "stdout",
     "output_type": "stream",
     "text": [
      "========\n",
      "{'0'}\n",
      "{'1', '2'}\n",
      "{'1', '2'}\n",
      "========\n",
      "{'1', '0'}\n",
      "{'0', '4', '3'}\n",
      "{'3', '4'}\n",
      "========\n",
      "{'1', '0', '3'}\n",
      "{'1'}\n",
      "set()\n",
      "========\n",
      "{'1', '0', '4', '3'}\n",
      "{'2', '3'}\n",
      "{'2'}\n",
      "========\n",
      "{'0', '4', '1', '2', '3'}\n",
      "{'0'}\n",
      "set()\n",
      "========\n",
      "{'0', '4', '1', '2', '3'}\n",
      "{'0'}\n",
      "set()\n"
     ]
    },
    {
     "data": {
      "text/plain": [
       "{'0', '1', '2', '3', '4'}"
      ]
     },
     "execution_count": 20,
     "metadata": {},
     "output_type": "execute_result"
    }
   ],
   "execution_count": 20
  },
  {
   "cell_type": "code",
   "metadata": {
    "ExecuteTime": {
     "end_time": "2025-03-25T19:22:08.834822Z",
     "start_time": "2025-03-25T19:22:08.825586Z"
    }
   },
   "source": [
    "# Python3 program to print DFS traversal\n",
    "# from a given graph\n",
    "from collections import defaultdict\n",
    "\n",
    "\n",
    "# This class represents a directed graph using\n",
    "# adjacency list representation\n",
    "class Graph:\n",
    "\n",
    "\t# Constructor\n",
    "\tdef __init__(self):\n",
    "\n",
    "\t\t# Default dictionary to store graph\n",
    "\t\tself.graph = defaultdict(list)\n",
    "\n",
    "\t\n",
    "\t# Function to add an edge to graph\n",
    "\tdef addEdge(self, u, v):\n",
    "\t\tself.graph[u].append(v)\n",
    "\n",
    "\t\n",
    "\t# A function used by DFS\n",
    "\tdef DFSUtil(self, v, visited):\n",
    "\n",
    "\t\t# Mark the current node as visited\n",
    "\t\t# and print it\n",
    "\t\tvisited.add(v)\n",
    "\t\tprint(v, end=' ')\n",
    "\n",
    "\t\t# Recur for all the vertices\n",
    "\t\t# adjacent to this vertex\n",
    "\t\tfor neighbour in self.graph[v]:\n",
    "\t\t\tif neighbour not in visited:\n",
    "\t\t\t\tself.DFSUtil(neighbour, visited)\n",
    "\n",
    "\t\n",
    "\t# The function to do DFS traversal. It uses\n",
    "\t# recursive DFSUtil()\n",
    "\tdef DFS(self, v):\n",
    "\n",
    "\t\t# Create a set to store visited vertices\n",
    "\t\tvisited = set()\n",
    "\n",
    "\t\t# Call the recursive helper function\n",
    "\t\t# to print DFS traversal\n",
    "\t\tself.DFSUtil(v, visited)\n",
    "\n",
    "\n",
    "# Driver's code\n",
    "if __name__ == \"__main__\":\n",
    "\tg = Graph()\n",
    "\tg.addEdge(0, 1)\n",
    "\tg.addEdge(0, 2)\n",
    "\tg.addEdge(1, 2)\n",
    "\tg.addEdge(2, 0)\n",
    "\tg.addEdge(2, 3)\n",
    "\tg.addEdge(3, 3)\n",
    "\n",
    "\tprint(\"Following is Depth First Traversal (starting from vertex 2)\")\n",
    "\t\n",
    "\t# Function call\n",
    "\tg.DFS(2)\n",
    "\n",
    "# This code is contributed by Neelam Yadav\n"
   ],
   "outputs": [
    {
     "name": "stdout",
     "output_type": "stream",
     "text": [
      "Following is Depth First Traversal (starting from vertex 2)\n",
      "2 0 1 3 "
     ]
    }
   ],
   "execution_count": 21
  }
 ],
 "metadata": {
  "kernelspec": {
   "display_name": ".AILab",
   "language": "python",
   "name": "python3"
  },
  "language_info": {
   "codemirror_mode": {
    "name": "ipython",
    "version": 3
   },
   "file_extension": ".py",
   "mimetype": "text/x-python",
   "name": "python",
   "nbconvert_exporter": "python",
   "pygments_lexer": "ipython3",
   "version": "3.10.7"
  }
 },
 "nbformat": 4,
 "nbformat_minor": 2
}
